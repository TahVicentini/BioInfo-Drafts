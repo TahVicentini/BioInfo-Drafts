{
 "cells": [
  {
   "cell_type": "markdown",
   "id": "448b66ac",
   "metadata": {},
   "source": [
    "## Transcrição: DNA para RNA"
   ]
  },
  {
   "cell_type": "markdown",
   "id": "5e1deddf",
   "metadata": {},
   "source": [
    "A transcrição é um processo por meio do qual ocorre a síntese de RNA a partir das informações contidas no DNA. Nesse processo, uma cadeia de DNA é transcrita em uma molécula de RNA simples, que se torna complementar à cadeia de DNA. Para que isso ocorra, uma molécula de DNA terá suas duas cadeias afastadas, e nucleotídeos livres de RNA se ligarão a um dos filamentos. Essa fita de RNA formada sob o controle da enzima RNA-polimerase se destacará da fita molde de DNA e se deslocará para o citoplasma. Já as duas cadeias de DNA se ligarão novamente."
   ]
  },
  {
   "cell_type": "markdown",
   "id": "0765bed4",
   "metadata": {},
   "source": [
    "Ideia: criar um algoritmo que receba uma sequência de DNA e a transcreva em RNA."
   ]
  },
  {
   "cell_type": "code",
   "execution_count": null,
   "id": "cf2b5edc",
   "metadata": {},
   "outputs": [],
   "source": [
    "def converter_para_RNA(seq_DNA):      #A função recebe um parâmetro: a sequência de DNA.\n",
    "    seq_RNA = \" \"                     #Uma string vazia é criada para armazenar a transcrição.\n",
    "    \n",
    "    for nucleotideo in seq_DNA:       #O loop for analisa cada nucleotideo de DNA da sequência e o susbtitui pelo\n",
    "        if nucleotideo == \"A\":        #seu equivalente do RNA.\n",
    "            seq_RNA += \"U\"\n",
    "        elif nucleotideo == \"T\":\n",
    "            seq_RNA += \"A\"\n",
    "        elif nucleotideo == \"C\":\n",
    "            seq_RNA += \"G\"\n",
    "        elif nucleotideo == \"G\":\n",
    "            seq_RNA += \"C\"\n",
    "            \n",
    "    return seq_RNA\n",
    "    "
   ]
  },
  {
   "cell_type": "code",
   "execution_count": null,
   "id": "68df1045",
   "metadata": {},
   "outputs": [],
   "source": [
    "sequencia_dna = \"ATGCATGCTAGCTAGCTAGCTAGCTAGCTAGCTAGCTAGCTAGCTAGCTAGCTAGCTAGCTAG\"\n",
    "sequencia_rna = converter_para_RNA(sequencia_dna)\n",
    "print(sequencia_rna)"
   ]
  },
  {
   "cell_type": "markdown",
   "id": "5f5de783",
   "metadata": {},
   "source": [
    "É possível também criar o algoritmo permitindo que o usuário digite a sequência desejado através do \"input\"."
   ]
  },
  {
   "cell_type": "code",
   "execution_count": 5,
   "id": "014d70ef",
   "metadata": {},
   "outputs": [
    {
     "name": "stdout",
     "output_type": "stream",
     "text": [
      "Digite uma sequência de DNA:actgacgtgtcacacagt\n",
      "Sua sequência de DNA é: ACTGACGTGTCACACAGT\n",
      "Sua sequência de RNA é: UGACUGCACAGUGUGUCA\n"
     ]
    }
   ],
   "source": [
    "seq = (str(input(\"Digite uma sequência de DNA:\")))   #Pedimos para o usuário digitar a sequência, formatando em uma string.\n",
    "seq_DNA = seq.upper()                                #Por padrão, a string deve estar em caixa alta, nesse caso usamos\n",
    "                                                     #\"upper\" para garantir que fique formatado corretamente.\n",
    "    \n",
    "sequencia_valida = True                             #Também é necessário verificar se há apenas nucleotídeos de DNA na\n",
    "for letra in seq_DNA:                               # sequência. Para isso criamos um loop \"for\" com booleanos.\n",
    "    if letra not in \"ACGTacgt\":                     #\"True\" é uma sequência válida.\n",
    "        print(\"Sequência inválida!\")                #O loop analiza cada letra da sequência,e se uma delas for diferente de\n",
    "        sequencia_valida = False                    #\"ATGCatgc\", ele retorna \"False\" e indica que a sequência é inválida.\n",
    "        break                                       #\"break\" finaliza o algoritmo.\n",
    "        \n",
    "if sequencia_valida:\n",
    "    print(\"Sua sequência de DNA é:\",seq_DNA)\n",
    "\n",
    "def converter_para_RNA(seq_DNA):      \n",
    "    seq_RNA = \"\"                     \n",
    "    \n",
    "    for nucleotideo in seq_DNA:       \n",
    "        if nucleotideo == \"A\":        \n",
    "            seq_RNA += \"U\"\n",
    "        elif nucleotideo == \"T\":\n",
    "            seq_RNA += \"A\"\n",
    "        elif nucleotideo == \"C\":\n",
    "            seq_RNA += \"G\"\n",
    "        elif nucleotideo == \"G\":\n",
    "            seq_RNA += \"C\"\n",
    "            \n",
    "    return seq_RNA\n",
    "\n",
    "seq_RNA = converter_para_RNA(seq_DNA)\n",
    "print(\"Sua sequência de RNA é:\",seq_RNA)"
   ]
  },
  {
   "cell_type": "code",
   "execution_count": null,
   "id": "9b2f6f85",
   "metadata": {},
   "outputs": [],
   "source": []
  }
 ],
 "metadata": {
  "kernelspec": {
   "display_name": "Python 3 (ipykernel)",
   "language": "python",
   "name": "python3"
  },
  "language_info": {
   "codemirror_mode": {
    "name": "ipython",
    "version": 3
   },
   "file_extension": ".py",
   "mimetype": "text/x-python",
   "name": "python",
   "nbconvert_exporter": "python",
   "pygments_lexer": "ipython3",
   "version": "3.9.13"
  }
 },
 "nbformat": 4,
 "nbformat_minor": 5
}
